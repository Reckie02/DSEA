{
 "cells": [
  {
   "cell_type": "code",
   "execution_count": 2,
   "id": "cc8d5f43",
   "metadata": {},
   "outputs": [],
   "source": [
    "import pandas as pd"
   ]
  },
  {
   "cell_type": "code",
   "execution_count": 43,
   "id": "14b90f66",
   "metadata": {},
   "outputs": [],
   "source": [
    "data = pd.read_csv(r'C:\\Users\\430 G4\\Desktop\\Data Science\\DSEA\\Week 1\\data2.csv')"
   ]
  },
  {
   "cell_type": "code",
   "execution_count": 44,
   "id": "14fdd8e7",
   "metadata": {},
   "outputs": [
    {
     "data": {
      "text/html": [
       "<div>\n",
       "<style scoped>\n",
       "    .dataframe tbody tr th:only-of-type {\n",
       "        vertical-align: middle;\n",
       "    }\n",
       "\n",
       "    .dataframe tbody tr th {\n",
       "        vertical-align: top;\n",
       "    }\n",
       "\n",
       "    .dataframe thead th {\n",
       "        text-align: right;\n",
       "    }\n",
       "</style>\n",
       "<table border=\"1\" class=\"dataframe\">\n",
       "  <thead>\n",
       "    <tr style=\"text-align: right;\">\n",
       "      <th></th>\n",
       "      <th>id</th>\n",
       "      <th>first_name</th>\n",
       "      <th>last_name</th>\n",
       "      <th>email</th>\n",
       "      <th>gender</th>\n",
       "      <th>Internet_Usage</th>\n",
       "      <th>Contract_Durations</th>\n",
       "      <th>monthly_bill</th>\n",
       "      <th>age</th>\n",
       "      <th>location</th>\n",
       "    </tr>\n",
       "  </thead>\n",
       "  <tbody>\n",
       "    <tr>\n",
       "      <th>0</th>\n",
       "      <td>1</td>\n",
       "      <td>Brittan</td>\n",
       "      <td>Clewley</td>\n",
       "      <td>bclewley0@pen.io</td>\n",
       "      <td>Female</td>\n",
       "      <td>28</td>\n",
       "      <td>13</td>\n",
       "      <td>$6.05</td>\n",
       "      <td>49</td>\n",
       "      <td>Karano</td>\n",
       "    </tr>\n",
       "    <tr>\n",
       "      <th>1</th>\n",
       "      <td>2</td>\n",
       "      <td>Dacy</td>\n",
       "      <td>Antonsson</td>\n",
       "      <td>dantonsson1@answers.com</td>\n",
       "      <td>Female</td>\n",
       "      <td>46</td>\n",
       "      <td>63</td>\n",
       "      <td>$6.82</td>\n",
       "      <td>38</td>\n",
       "      <td>Huddinge</td>\n",
       "    </tr>\n",
       "    <tr>\n",
       "      <th>2</th>\n",
       "      <td>3</td>\n",
       "      <td>Alvinia</td>\n",
       "      <td>Feild</td>\n",
       "      <td>afeild2@domainmarket.com</td>\n",
       "      <td>Female</td>\n",
       "      <td>43</td>\n",
       "      <td>62</td>\n",
       "      <td>$4.71</td>\n",
       "      <td>87</td>\n",
       "      <td>Paris 15</td>\n",
       "    </tr>\n",
       "    <tr>\n",
       "      <th>3</th>\n",
       "      <td>4</td>\n",
       "      <td>Abra</td>\n",
       "      <td>Piechnik</td>\n",
       "      <td>apiechnik3@youtu.be</td>\n",
       "      <td>Female</td>\n",
       "      <td>63</td>\n",
       "      <td>88</td>\n",
       "      <td>$3.60</td>\n",
       "      <td>34</td>\n",
       "      <td>Aix-en-Provence</td>\n",
       "    </tr>\n",
       "    <tr>\n",
       "      <th>4</th>\n",
       "      <td>5</td>\n",
       "      <td>Olav</td>\n",
       "      <td>Scholling</td>\n",
       "      <td>oscholling4@hugedomains.com</td>\n",
       "      <td>Male</td>\n",
       "      <td>1</td>\n",
       "      <td>99</td>\n",
       "      <td>$2.19</td>\n",
       "      <td>58</td>\n",
       "      <td>Esperanza</td>\n",
       "    </tr>\n",
       "  </tbody>\n",
       "</table>\n",
       "</div>"
      ],
      "text/plain": [
       "   id first_name  last_name                        email  gender  \\\n",
       "0   1    Brittan    Clewley             bclewley0@pen.io  Female   \n",
       "1   2       Dacy  Antonsson      dantonsson1@answers.com  Female   \n",
       "2   3    Alvinia      Feild     afeild2@domainmarket.com  Female   \n",
       "3   4       Abra   Piechnik          apiechnik3@youtu.be  Female   \n",
       "4   5       Olav  Scholling  oscholling4@hugedomains.com    Male   \n",
       "\n",
       "   Internet_Usage  Contract_Durations monthly_bill  age         location  \n",
       "0              28                  13        $6.05   49           Karano  \n",
       "1              46                  63        $6.82   38         Huddinge  \n",
       "2              43                  62        $4.71   87         Paris 15  \n",
       "3              63                  88        $3.60   34  Aix-en-Provence  \n",
       "4               1                  99        $2.19   58        Esperanza  "
      ]
     },
     "execution_count": 44,
     "metadata": {},
     "output_type": "execute_result"
    }
   ],
   "source": [
    "data.head()"
   ]
  },
  {
   "cell_type": "code",
   "execution_count": 6,
   "id": "e8ab96c1",
   "metadata": {},
   "outputs": [
    {
     "data": {
      "text/plain": [
       "(1000, 10)"
      ]
     },
     "execution_count": 6,
     "metadata": {},
     "output_type": "execute_result"
    }
   ],
   "source": [
    "data.shape"
   ]
  },
  {
   "cell_type": "code",
   "execution_count": 45,
   "id": "3c961ab7",
   "metadata": {},
   "outputs": [
    {
     "data": {
      "text/plain": [
       "id                    0\n",
       "first_name            0\n",
       "last_name             0\n",
       "email                 0\n",
       "gender                0\n",
       "Internet_Usage        0\n",
       "Contract_Durations    0\n",
       "monthly_bill          0\n",
       "age                   0\n",
       "location              0\n",
       "dtype: int64"
      ]
     },
     "execution_count": 45,
     "metadata": {},
     "output_type": "execute_result"
    }
   ],
   "source": [
    "# Missing values\n",
    "data.isnull().sum()"
   ]
  },
  {
   "cell_type": "code",
   "execution_count": 47,
   "id": "2f4b0a6c",
   "metadata": {},
   "outputs": [
    {
     "name": "stdout",
     "output_type": "stream",
     "text": [
      "       id first_name  last_name                        email  gender  \\\n",
      "0       1    Brittan    Clewley             bclewley0@pen.io  Female   \n",
      "1       2       Dacy  Antonsson      dantonsson1@answers.com  Female   \n",
      "2       3    Alvinia      Feild     afeild2@domainmarket.com  Female   \n",
      "3       4       Abra   Piechnik          apiechnik3@youtu.be  Female   \n",
      "4       5       Olav  Scholling  oscholling4@hugedomains.com    Male   \n",
      "..    ...        ...        ...                          ...     ...   \n",
      "995   996    Freeman    Dunphie         fdunphiern@google.ru    Male   \n",
      "996   997      Patty    Pacheco       ppachecoro@cornell.edu  Female   \n",
      "997   998   Cyrillus  McConaghy          cmcconaghyrp@gov.uk    Male   \n",
      "998   999   Joycelin    Sitwell           jsitwellrq@mac.com  Female   \n",
      "999  1000  Guillermo   Houdhury         ghoudhuryrr@army.mil    Male   \n",
      "\n",
      "     Internet_Usage  Contract_Durations monthly_bill  age         location  \n",
      "0          0.272727                  13        $6.05   49           Karano  \n",
      "1          0.454545                  63        $6.82   38         Huddinge  \n",
      "2          0.424242                  62        $4.71   87         Paris 15  \n",
      "3          0.626263                  88        $3.60   34  Aix-en-Provence  \n",
      "4          0.000000                  99        $2.19   58        Esperanza  \n",
      "..              ...                 ...          ...  ...              ...  \n",
      "995        0.919192                  41        $9.70   29  Castelo de Vide  \n",
      "996        0.909091                  81        $6.70   93         Mulhouse  \n",
      "997        0.515152                  92        $8.70   35       Norrköping  \n",
      "998        0.919192                  36        $7.97   22       Punkaharju  \n",
      "999        0.777778                  81        $3.82   41           Fuxing  \n",
      "\n",
      "[1000 rows x 10 columns]\n"
     ]
    }
   ],
   "source": [
    "# Normalize monthly Internet_Usage columns\n",
    "\n",
    "from sklearn.preprocessing import MinMaxScaler\n",
    "scaler = MinMaxScaler()\n",
    "data['Internet_Usage'] = scaler.fit_transform(data['Internet_Usage'].values.reshape(-1, 1))\n",
    "\n",
    "print(data)"
   ]
  },
  {
   "cell_type": "code",
   "execution_count": null,
   "id": "dc4e6d5b",
   "metadata": {},
   "outputs": [],
   "source": []
  },
  {
   "cell_type": "code",
   "execution_count": null,
   "id": "64288e28",
   "metadata": {},
   "outputs": [],
   "source": []
  }
 ],
 "metadata": {
  "kernelspec": {
   "display_name": "Python 3 (ipykernel)",
   "language": "python",
   "name": "python3"
  },
  "language_info": {
   "codemirror_mode": {
    "name": "ipython",
    "version": 3
   },
   "file_extension": ".py",
   "mimetype": "text/x-python",
   "name": "python",
   "nbconvert_exporter": "python",
   "pygments_lexer": "ipython3",
   "version": "3.11.4"
  }
 },
 "nbformat": 4,
 "nbformat_minor": 5
}
